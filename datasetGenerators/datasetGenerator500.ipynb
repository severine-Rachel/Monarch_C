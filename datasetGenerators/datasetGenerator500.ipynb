{
  "cells": [
    {
      "cell_type": "markdown",
      "metadata": {
        "id": "B7KmftjTmvup"
      },
      "source": [
        "#Import, variables globales, classe vm"
      ]
    },
    {
      "cell_type": "code",
      "execution_count": 49,
      "metadata": {
        "id": "bwc9TwjUmtZt"
      },
      "outputs": [],
      "source": [
        "import math\n",
        "import numpy\n",
        "import random\n",
        "import pandas as pd\n",
        "import matplotlib.pyplot as plt\n",
        "from statistics import mean\n",
        "import sys"
      ]
    },
    {
      "cell_type": "code",
      "execution_count": 50,
      "metadata": {
        "id": "h8lgKpmcmyAJ"
      },
      "outputs": [],
      "source": [
        "tasks = [] # Les tâches à effectuer\n",
        "vms = [] # Les vms disponibles avec leurs caractèristiques\n",
        "\n",
        "indiv_length = 500 # nombre de tache\n",
        "\n",
        "nb_vm_fog = 10\n",
        "nb_vm_cloud = 3\n",
        "\n",
        "vm_number = nb_vm_cloud + nb_vm_cloud\n",
        "\n",
        "min_cost = 0\n",
        "min_exec_time = 0\n",
        "\n",
        "mutation_rate = 0.1\n",
        "iteration_number = 100\n",
        "population_size = 100"
      ]
    },
    {
      "cell_type": "code",
      "execution_count": 51,
      "metadata": {
        "id": "tlmuaps5m0f5"
      },
      "outputs": [],
      "source": [
        "class vm:\n",
        "  def __init__(self,power,cpu_cost,memory_cost,bandwidth_cost,env) -> None:\n",
        "    self.power = power # Puissance de la cpu en MIPS\n",
        "    self.cpu_cost = cpu_cost # Cout d'utilisation de la cpu pour une unité de temps\n",
        "    self.memory_cost = memory_cost # Cout de la mémoire par MB\n",
        "    self.bandwidth_cost = bandwidth_cost # Cout de la bande passante par MB\n",
        "    self.env = env # Environnement du noeud (Fog ou CLoud)\n",
        "\n",
        "  def show(self):\n",
        "    print(\"Power = \",self.power)\n",
        "    print(\"Cpu cost = \",self.cpu_cost)\n",
        "    print(\"Memory cost = \",self.memory_cost)\n",
        "    print(\"Bandwith cost = \",self.bandwidth_cost)\n",
        "    print(\"Env = \",self.env,\"\\n\")\n",
        "\n",
        "\n",
        "class task:\n",
        "  def __init__(self,nb_instruction, memory,input_size_file, output_size_file) -> None:\n",
        "    self.nb_instruction = nb_instruction # Nombre d'instruction de la tâche en milliard d'instructions\n",
        "    self.memory = memory # Mémoire nécessaire en MB\n",
        "    self.input_size_file = input_size_file # Taille du fichier d'entrée en MB\n",
        "    self.output_size_file = output_size_file # Taille du fichier de sortie en MB\n",
        "\n",
        "  def show(self):\n",
        "    print(\"Number instruction = \",self.nb_instruction)\n",
        "    print(\"Memory = \",self.memory)\n",
        "    print(\"Input size file = \",self.input_size_file)\n",
        "    print(\"Output size file = \",self.output_size_file,\"\\n\")"
      ]
    },
    {
      "cell_type": "markdown",
      "metadata": {
        "id": "6u4A1euonzmJ"
      },
      "source": [
        "# Fonctions générales"
      ]
    },
    {
      "cell_type": "markdown",
      "metadata": {
        "id": "eqV--GCIn0FC"
      },
      "source": [
        "## Initialisation"
      ]
    },
    {
      "cell_type": "code",
      "execution_count": 52,
      "metadata": {
        "id": "F_YVkW93nzby"
      },
      "outputs": [],
      "source": [
        "def generate_data(indiv_length) -> None:\n",
        "  global nb_vm_fog\n",
        "  global nb_vm_cloud\n",
        "  global vms\n",
        "  global tasks\n",
        "  #global indiv_length\n",
        "  global vm_number\n",
        "\n",
        "  tasks = []\n",
        "  vms = []\n",
        "\n",
        "  # Création des noeuds fog\n",
        "  for i in range(0,nb_vm_fog):\n",
        "    power = numpy.random.uniform(500,1500)\n",
        "    cpu_cost = numpy.random.uniform(0.1,0.4)\n",
        "    memory_cost = numpy.random.uniform(0.01,0.03)\n",
        "    bandwidth_cost = numpy.random.uniform(0.01,0.02)\n",
        "\n",
        "    vms.append(vm(power,cpu_cost,memory_cost,bandwidth_cost,\"fog\"))\n",
        "\n",
        "\n",
        "  # Création des noeuds cloud\n",
        "  for i in range(0,nb_vm_cloud):\n",
        "    power = numpy.random.uniform(3000,5000)\n",
        "    cpu_cost = numpy.random.uniform(0.7,1)\n",
        "    memory_cost = numpy.random.uniform(0.02,0.05)\n",
        "    bandwidth_cost = numpy.random.uniform(0.05,0.1)\n",
        "\n",
        "    vms.append(vm(power,cpu_cost,memory_cost,bandwidth_cost,\"cloud\"))\n",
        "\n",
        "\n",
        "  # Création des tâches\n",
        "  for i in range(0,indiv_length):\n",
        "    nb_instruction = numpy.random.uniform(1,100)\n",
        "    memory = numpy.random.uniform(50,200)\n",
        "    input_size_file = numpy.random.uniform(10,100)\n",
        "    output_size_file = numpy.random.uniform(10,100)\n",
        "\n",
        "    tasks.append(task(nb_instruction,memory,input_size_file,output_size_file))\n",
        "\n",
        "\n",
        "  # Calcul le cout et le temps d'execution minimum\n",
        "  global min_cost\n",
        "  global min_exec_time\n",
        "  min_exec_time = sum([truc.nb_instruction for truc in tasks])*1000/sum([vm.power for vm in vms])\n",
        "  min_cost = 0\n",
        "  for truc in tasks:\n",
        "    tmp = vms[0].cpu_cost*truc.nb_instruction*1000/vms[0].power + vms[0].memory_cost*truc.memory + vms[0].bandwidth_cost*(truc.input_size_file+truc.output_size_file)\n",
        "    for node in vms:\n",
        "      val = node.cpu_cost*truc.nb_instruction*1000/node.power + node.memory_cost*truc.memory + node.bandwidth_cost*(truc.input_size_file+truc.output_size_file)\n",
        "      if val < tmp :\n",
        "        tmp = val\n",
        "    min_cost += tmp"
      ]
    },
    {
      "cell_type": "code",
      "execution_count": 53,
      "metadata": {
        "id": "6cwKSICmoaPw"
      },
      "outputs": [],
      "source": [
        "# Initialise une population aléatoire\n",
        "\n",
        "def init_population(indiv_length) -> list:\n",
        "  population = []\n",
        "  while len(population) < population_size:\n",
        "    indiv= numpy.zeros(indiv_length)\n",
        "\n",
        "    indiv = [random.randint(0,vm_number-1) for elem in indiv]\n",
        "    if isValid(indiv):\n",
        "      population.append(indiv)\n",
        "  return population"
      ]
    },
    {
      "cell_type": "code",
      "execution_count": 54,
      "metadata": {
        "id": "IVxJLryqqri6"
      },
      "outputs": [],
      "source": [
        "# Permet de gérer les contraintes\n",
        "\n",
        "def isValid(indiv):\n",
        "  return True"
      ]
    },
    {
      "cell_type": "code",
      "execution_count": 55,
      "metadata": {
        "id": "nfuGVEKUoi_q"
      },
      "outputs": [],
      "source": [
        "# Permet de calculer la fitness d'une solution entre 0 et 1, fonction à maximiser\n",
        "def fitness(indiv) -> tuple:\n",
        "\n",
        "  global min_cost\n",
        "  global min_exec_time\n",
        "  global tasks\n",
        "  global vms\n",
        "  global vm_number\n",
        "\n",
        "\n",
        "\n",
        "  cost = 0\n",
        "  exec_time = numpy.zeros(vm_number)\n",
        "\n",
        "  for i in range(0,len(indiv)):\n",
        "    vm = vms[indiv[i]]\n",
        "\n",
        "    cost += vm.cpu_cost*tasks[i].nb_instruction*1000/vm.power + vm.memory_cost*tasks[i].memory + vm.bandwidth_cost*(tasks[i].input_size_file+tasks[i].output_size_file)\n",
        "    exec_time[indiv[i]] += tasks[i].nb_instruction*1000/vm.power\n",
        "\n",
        "  return [min_cost/cost,min_exec_time/max(exec_time)]\n",
        "\n",
        "\n",
        "# Permet de calculer la valeur des metrics d'une solution\n",
        "\n",
        "def perf(indiv) -> tuple:\n",
        "\n",
        "  cost = 0\n",
        "  exec_time = numpy.zeros(vm_number)\n",
        "\n",
        "\n",
        "  for i in range(0,len(indiv)):\n",
        "    vm = vms[indiv[i]]\n",
        "\n",
        "    cost += vm.cpu_cost*tasks[i].nb_instruction*1000/vm.power + vm.memory_cost*tasks[i].memory + vm.bandwidth_cost*(tasks[i].input_size_file+tasks[i].output_size_file)\n",
        "\n",
        "    exec_time[indiv[i]] += tasks[i].nb_instruction*1000/vm.power\n",
        "  return [cost,max(exec_time)]"
      ]
    },
    {
      "cell_type": "code",
      "execution_count": 56,
      "metadata": {
        "id": "Y8Mst5XQo6ZZ"
      },
      "outputs": [],
      "source": [
        "# Fonction permettant de savoir si un individu en domine un autre\n",
        "\n",
        "# Prend en entrée la fitness des deux individus\n",
        "# Renvoie en sortie un tuple de deux éléments le premier disant si l'indiv 1 domine et le deuxième si l'indiv 2 domine.\n",
        "# Si aucun des deux individus ne se dominent, le tuple renvoyé est (True,True)\n",
        "# Si les deux individus sont identiques, le tuple renvoyé est (True,True)\n",
        "\n",
        "def dominance_check(fit1,fit2) -> tuple:\n",
        "  if fit1 == fit2 :\n",
        "    return (True,True)\n",
        "  bool1 = False\n",
        "  bool2 = False\n",
        "  for i in range(len(fit1)):\n",
        "    if fit1[i] > fit2[i]:\n",
        "      bool1 = True\n",
        "    elif fit1[i] < fit2[i]:\n",
        "      bool2 = True\n",
        "  return (bool1,bool2)\n",
        "\n",
        "\n",
        "#Fonction permettant d'obtenir les solutions de pareto d'un ensemble\n",
        "\n",
        "#Prend en entrée une population d'individu\n",
        "#Renvoie les individus pareto\n",
        "def pareto_solutions(population) -> list:\n",
        "  population_fit = list(map(fitness, population))\n",
        "  pareto = []\n",
        "\n",
        "  for i in range(len(population)):\n",
        "    isPareto = True\n",
        "    for j in range(len(population)):\n",
        "      domi,_ = dominance_check(population_fit[i],population_fit[j])\n",
        "      if not domi:\n",
        "        isPareto = False\n",
        "        break\n",
        "    if isPareto:\n",
        "      pareto.append(population[i])\n",
        "  return pareto"
      ]
    },
    {
      "cell_type": "code",
      "execution_count": 57,
      "metadata": {
        "id": "UVkzGf2CV6bl"
      },
      "outputs": [],
      "source": [
        "import pandas as pd\n",
        "\n",
        "def data_to_csv(indiv_length):\n",
        "\n",
        "  cost_table = []\n",
        "  execution_table = []\n",
        "\n",
        "  for vm in vms:\n",
        "    tmp_cost = []\n",
        "    tmp_exec = []\n",
        "    for task in tasks:\n",
        "      tmp_cost.append(vm.cpu_cost*task.nb_instruction*1000/vm.power + vm.memory_cost*task.memory + vm.bandwidth_cost*(task.input_size_file+task.output_size_file))\n",
        "      tmp_exec.append(task.nb_instruction*1000/vm.power)\n",
        "    cost_table.append(tmp_cost)\n",
        "    execution_table.append(tmp_exec)\n",
        "  df_cost = pd.DataFrame(cost_table)\n",
        "  df_cost.to_csv(f\"CostTable_R_{indiv_length}.csv\")\n",
        "\n",
        "  df_exec = pd.DataFrame(execution_table)\n",
        "  df_exec.to_csv(f\"ExecutionTable_R_{indiv_length}.csv\")\n",
        "\n"
      ]
    },
    {
      "cell_type": "code",
      "execution_count": 58,
      "metadata": {},
      "outputs": [],
      "source": [
        "# fonction main qui s'execute lorsqu'on lance le script\n",
        "\n",
        "def main(indiv_length):\n",
        "    generate_data(indiv_length)\n",
        "    data_to_csv(indiv_length)\n",
        "    \n",
        "\n",
        "if __name__ == \"__main__\":\n",
        "    main(500)"
      ]
    }
  ],
  "metadata": {
    "colab": {
      "provenance": []
    },
    "kernelspec": {
      "display_name": "Python 3",
      "name": "python3"
    },
    "language_info": {
      "codemirror_mode": {
        "name": "ipython",
        "version": 3
      },
      "file_extension": ".py",
      "mimetype": "text/x-python",
      "name": "python",
      "nbconvert_exporter": "python",
      "pygments_lexer": "ipython3",
      "version": "3.8.3"
    }
  },
  "nbformat": 4,
  "nbformat_minor": 0
}
